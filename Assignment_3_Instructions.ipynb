{
 "cells": [
  {
   "cell_type": "markdown",
   "metadata": {
    "colab_type": "text",
    "id": "h9464I-uxLiw"
   },
   "source": [
    "# Assignment"
   ]
  },
  {
   "cell_type": "markdown",
   "metadata": {
    "colab_type": "text",
    "id": "IvLvmewlxLix"
   },
   "source": [
    "<font face='georgia'>\n",
    "    \n",
    "   <h4><strong>What does tf-idf mean?</strong></h4>\n",
    "\n",
    "   <p>    \n",
    "Tf-idf stands for <em>term frequency-inverse document frequency</em>, and the tf-idf weight is a weight often used in information retrieval and text mining. This weight is a statistical measure used to evaluate how important a word is to a document in a collection or corpus. The importance increases proportionally to the number of times a word appears in the document but is offset by the frequency of the word in the corpus. Variations of the tf-idf weighting scheme are often used by search engines as a central tool in scoring and ranking a document's relevance given a user query.\n",
    "</p>\n",
    "    \n",
    "   <p>\n",
    "One of the simplest ranking functions is computed by summing the tf-idf for each query term; many more sophisticated ranking functions are variants of this simple model.\n",
    "</p>\n",
    "    \n",
    "   <p>\n",
    "Tf-idf can be successfully used for stop-words filtering in various subject fields including text summarization and classification.\n",
    "</p>\n",
    "    \n",
    "</font>"
   ]
  },
  {
   "cell_type": "markdown",
   "metadata": {
    "colab_type": "text",
    "id": "4XLaGFUMxLiy"
   },
   "source": [
    "<font face='georgia'>\n",
    "    <h4><strong>How to Compute:</strong></h4>\n",
    "\n",
    "Typically, the tf-idf weight is composed by two terms: the first computes the normalized Term Frequency (TF), aka. the number of times a word appears in a document, divided by the total number of words in that document; the second term is the Inverse Document Frequency (IDF), computed as the logarithm of the number of the documents in the corpus divided by the number of documents where the specific term appears.\n",
    "\n",
    " <ul>\n",
    "    <li>\n",
    "<strong>TF:</strong> Term Frequency, which measures how frequently a term occurs in a document. Since every document is different in length, it is possible that a term would appear much more times in long documents than shorter ones. Thus, the term frequency is often divided by the document length (aka. the total number of terms in the document) as a way of normalization: <br>\n",
    "\n",
    "$TF(t) = \\frac{\\text{Number of times term t appears in a document}}{\\text{Total number of terms in the document}}.$\n",
    "</li>\n",
    "<li>\n",
    "<strong>IDF:</strong> Inverse Document Frequency, which measures how important a term is. While computing TF, all terms are considered equally important. However it is known that certain terms, such as \"is\", \"of\", and \"that\", may appear a lot of times but have little importance. Thus we need to weigh down the frequent terms while scale up the rare ones, by computing the following: <br>\n",
    "\n",
    "$IDF(t) = \\log_{e}\\frac{\\text{Total  number of documents}} {\\text{Number of documents with term t in it}}.$\n",
    "for numerical stabiltiy we will be changing this formula little bit\n",
    "$IDF(t) = \\log_{e}\\frac{\\text{Total  number of documents}} {\\text{Number of documents with term t in it}+1}.$\n",
    "</li>\n",
    "</ul>\n",
    "\n",
    "<br>\n",
    "<h4><strong>Example</strong></h4>\n",
    "<p>\n",
    "\n",
    "Consider a document containing 100 words wherein the word cat appears 3 times. The term frequency (i.e., tf) for cat is then (3 / 100) = 0.03. Now, assume we have 10 million documents and the word cat appears in one thousand of these. Then, the inverse document frequency (i.e., idf) is calculated as log(10,000,000 / 1,000) = 4. Thus, the Tf-idf weight is the product of these quantities: 0.03 * 4 = 0.12.\n",
    "</p>\n",
    "</font>"
   ]
  },
  {
   "cell_type": "markdown",
   "metadata": {
    "colab_type": "text",
    "id": "dg2ooa4DxLiz"
   },
   "source": [
    "## Task-1"
   ]
  },
  {
   "cell_type": "markdown",
   "metadata": {
    "colab_type": "text",
    "id": "TAcTjhO8xLiz"
   },
   "source": [
    "<font face='georgia'>\n",
    "    <h4><strong>1. Build a TFIDF Vectorizer & compare its results with Sklearn:</strong></h4>\n",
    "\n",
    "<ul>\n",
    "    <li> As a part of this task you will be implementing TFIDF vectorizer on a collection of text documents.</li>\n",
    "    <br>\n",
    "    <li> You should compare the results of your own implementation of TFIDF vectorizer with that of sklearns implemenation TFIDF vectorizer.</li>\n",
    "    <br>\n",
    "    <li> Sklearn does few more tweaks in the implementation of its version of TFIDF vectorizer, so to replicate the exact results you would need to add following things to your custom implementation of tfidf vectorizer:\n",
    "       <ol>\n",
    "        <li> Sklearn has its vocabulary generated from idf sroted in alphabetical order</li>\n",
    "        <li> Sklearn formula of idf is different from the standard textbook formula. Here the constant <strong>\"1\"</strong> is added to the numerator and denominator of the idf as if an extra document was seen containing every term in the collection exactly once, which prevents zero divisions.\n",
    "            \n",
    " $IDF(t) = 1+\\log_{e}\\frac{1\\text{ }+\\text{ Total  number of documents in collection}} {1+\\text{Number of documents with term t in it}}.$\n",
    "        </li>\n",
    "        <li> Sklearn applies L2-normalization on its output matrix.</li>\n",
    "        <li> The final output of sklearn tfidf vectorizer is a sparse matrix.</li>\n",
    "    </ol>\n",
    "    <br>\n",
    "    <li>Steps to approach this task:\n",
    "    <ol>\n",
    "        <li> You would have to write both fit and transform methods for your custom implementation of tfidf vectorizer.</li>\n",
    "        <li> Print out the alphabetically sorted voacb after you fit your data and check if its the same as that of the feature names from sklearn tfidf vectorizer. </li>\n",
    "        <li> Print out the idf values from your implementation and check if its the same as that of sklearns tfidf vectorizer idf values. </li>\n",
    "        <li> Once you get your voacb and idf values to be same as that of sklearns implementation of tfidf vectorizer, proceed to the below steps. </li>\n",
    "        <li> Make sure the output of your implementation is a sparse matrix. Before generating the final output, you need to normalize your sparse matrix using L2 normalization. You can refer to this link https://scikit-learn.org/stable/modules/generated/sklearn.preprocessing.normalize.html </li>\n",
    "        <li> After completing the above steps, print the output of your custom implementation and compare it with sklearns implementation of tfidf vectorizer.</li>\n",
    "        <li> To check the output of a single document in your collection of documents,  you can convert the sparse matrix related only to that document into dense matrix and print it.</li>\n",
    "        </ol>\n",
    "    </li>\n",
    "    <br>\n",
    "   </ul>\n",
    "\n",
    "  <p> <font color=\"#e60000\"><strong>Note-1: </strong></font> All the necessary outputs of sklearns tfidf vectorizer have been provided as reference in this notebook, you can compare your outputs as mentioned in the above steps, with these outputs.<br>\n",
    "   <font color=\"#e60000\"><strong>Note-2: </strong></font> The output of your custom implementation and that of sklearns implementation would match only with the collection of document strings provided to you as reference in this notebook. It would not match for strings that contain capital letters or punctuations, etc, because sklearn version of tfidf vectorizer deals with such strings in a different way. To know further details about how sklearn tfidf vectorizer works with such string, you can always refer to its official documentation.<br>\n",
    "   <font color=\"#e60000\"><strong>Note-3: </strong></font> During this task, it would be helpful for you to debug the code you write with print statements wherever necessary. But when you are finally submitting the assignment, make sure your code is readable and try not to print things which are not part of this task.\n",
    "    </p>"
   ]
  },
  {
   "cell_type": "markdown",
   "metadata": {
    "colab_type": "text",
    "id": "OnV82tg1xLi0"
   },
   "source": [
    "### Corpus"
   ]
  },
  {
   "cell_type": "code",
   "execution_count": 267,
   "metadata": {
    "colab": {},
    "colab_type": "code",
    "id": "bUsYm9wjxLi1"
   },
   "outputs": [],
   "source": [
    "## SkLearn# Collection of string documents\n",
    "\n",
    "corpus = [\n",
    "     'this is the first document',\n",
    "     'this document is the second document',\n",
    "     'and this is the third one',\n",
    "     'is this the first document',\n",
    "]"
   ]
  },
  {
   "cell_type": "markdown",
   "metadata": {
    "colab_type": "text",
    "id": "eLwmFZfKxLi4"
   },
   "source": [
    "### SkLearn Implementation"
   ]
  },
  {
   "cell_type": "code",
   "execution_count": 268,
   "metadata": {
    "colab": {},
    "colab_type": "code",
    "id": "Np4dfQOkxLi4"
   },
   "outputs": [],
   "source": [
    "from sklearn.feature_extraction.text import TfidfVectorizer\n",
    "vectorizer = TfidfVectorizer()\n",
    "vectorizer.fit(corpus)\n",
    "skl_output = vectorizer.transform(corpus)"
   ]
  },
  {
   "cell_type": "code",
   "execution_count": 269,
   "metadata": {
    "colab": {},
    "colab_type": "code",
    "id": "-7Om8YpYxLi6",
    "outputId": "0a3bd0f5-4424-4400-944f-4482a80bd799"
   },
   "outputs": [
    {
     "name": "stdout",
     "output_type": "stream",
     "text": [
      "['and', 'document', 'first', 'is', 'one', 'second', 'the', 'third', 'this']\n"
     ]
    }
   ],
   "source": [
    "# sklearn feature names, they are sorted in alphabetic order by default.\n",
    "\n",
    "print(vectorizer.get_feature_names())"
   ]
  },
  {
   "cell_type": "code",
   "execution_count": 270,
   "metadata": {
    "colab": {},
    "colab_type": "code",
    "id": "dTKplK96xLi-",
    "outputId": "53722fa2-6756-4aa0-f179-37b578bb6890"
   },
   "outputs": [
    {
     "name": "stdout",
     "output_type": "stream",
     "text": [
      "[1.91629073 1.22314355 1.51082562 1.         1.91629073 1.91629073\n",
      " 1.         1.91629073 1.        ]\n"
     ]
    }
   ],
   "source": [
    "# Here we will print the sklearn tfidf vectorizer idf values after applying the fit method\n",
    "# After using the fit function on the corpus the vocab has 9 words in it, and each has its idf value.\n",
    "\n",
    "print(vectorizer.idf_)"
   ]
  },
  {
   "cell_type": "code",
   "execution_count": 271,
   "metadata": {
    "colab": {},
    "colab_type": "code",
    "id": "-CTiWHygxLjA",
    "outputId": "8d5a9cde-2c29-4afe-f7b4-1547e88dba4f"
   },
   "outputs": [
    {
     "data": {
      "text/plain": [
       "(4, 9)"
      ]
     },
     "execution_count": 271,
     "metadata": {},
     "output_type": "execute_result"
    }
   ],
   "source": [
    "# shape of sklearn tfidf vectorizer output after applying transform method.\n",
    "\n",
    "skl_output.shape"
   ]
  },
  {
   "cell_type": "code",
   "execution_count": 272,
   "metadata": {
    "colab": {},
    "colab_type": "code",
    "id": "bDKEpbA-xLjD",
    "outputId": "87dafd65-5313-443f-8c6e-1b05cc8c2543"
   },
   "outputs": [
    {
     "name": "stdout",
     "output_type": "stream",
     "text": [
      "  (0, 8)\t0.38408524091481483\n",
      "  (0, 6)\t0.38408524091481483\n",
      "  (0, 3)\t0.38408524091481483\n",
      "  (0, 2)\t0.5802858236844359\n",
      "  (0, 1)\t0.46979138557992045\n"
     ]
    }
   ],
   "source": [
    "# sklearn tfidf values for first line of the above corpus.\n",
    "# Here the output is a sparse matrix\n",
    "\n",
    "print(skl_output[0])"
   ]
  },
  {
   "cell_type": "code",
   "execution_count": 273,
   "metadata": {
    "colab": {},
    "colab_type": "code",
    "id": "3QWo34hexLjF",
    "outputId": "cdc04e08-989f-4bdc-dd7f-f1c82a9f90be"
   },
   "outputs": [
    {
     "name": "stdout",
     "output_type": "stream",
     "text": [
      "[[0.         0.46979139 0.58028582 0.38408524 0.         0.\n",
      "  0.38408524 0.         0.38408524]]\n"
     ]
    }
   ],
   "source": [
    "# sklearn tfidf values for first line of the above corpus.\n",
    "# To understand the output better, here we are converting the sparse output matrix to dense matrix and printing it.\n",
    "# Notice that this output is normalized using L2 normalization. sklearn does this by default.\n",
    "\n",
    "print(skl_output[0].toarray())"
   ]
  },
  {
   "cell_type": "markdown",
   "metadata": {
    "colab_type": "text",
    "id": "qfIwx5LzxLjI"
   },
   "source": [
    "### Your custom implementation"
   ]
  },
  {
   "cell_type": "code",
   "execution_count": 274,
   "metadata": {
    "colab": {},
    "colab_type": "code",
    "id": "HjuCcJwXxLjJ"
   },
   "outputs": [],
   "source": [
    "# Write your code here.\n",
    "# Make sure its well documented and readble with appropriate comments.\n",
    "# Compare your results with the above sklearn tfidf vectorizer\n",
    "# You are not supposed to use any other library apart from the ones given below\n",
    "\n",
    "from collections import Counter\n",
    "from tqdm import tqdm\n",
    "from scipy.sparse import csr_matrix\n",
    "import math\n",
    "import operator\n",
    "from sklearn.preprocessing import normalize\n",
    "import numpy"
   ]
  },
  {
   "cell_type": "code",
   "execution_count": 275,
   "metadata": {},
   "outputs": [],
   "source": [
    "\"\"\"\n",
    "    Approach: Lets try to replicate the features and functions the way we use fromsklearn library for tfidfVectorizer. \n",
    "\"\"\"\n",
    "class TfIdfVectorizer:\n",
    "    def __init__(self):\n",
    "        self.vocab = set()\n",
    "        self.documents = []\n",
    "        self.term_freq = []\n",
    "        self.idf = {}\n",
    "        self.corpus = []\n",
    "        self.idf_ = []\n",
    "    \n",
    "    def __calculate_tf__(self):\n",
    "        \"\"\"\n",
    "            For each document add words to the vocabulary set.\n",
    "            Calculate term frequency for each word in document using counter and create a list of dictionary \n",
    "            wherein each dictionary represents a document. \n",
    "        \"\"\"\n",
    "        for document in self.corpus:\n",
    "            if not isinstance(document, str):\n",
    "                raise TypeError(\"Expecting document to be a string.\")\n",
    "            document = document.split(\" \")\n",
    "            self.documents.append(document)\n",
    "            self.vocab.update(document)\n",
    "            self.term_freq.append({k:(v/len(document)) for k,v in dict(Counter(document)).items()})\n",
    "        self.vocab = sorted(self.vocab)\n",
    "\n",
    "    def __calculate_idf__(self):\n",
    "        \"\"\"\n",
    "            Herein we iterate over each word in vocabulary and find the number of documents where the word  is present\n",
    "            and calculate idf for each vocabulary word using the given formula.\n",
    "        \"\"\"\n",
    "        self.__calculate_tf__()\n",
    "        for word in self.vocab:\n",
    "            for document in self.documents:\n",
    "                if word in document:\n",
    "                    self.idf[word] = self.idf.get(word, 0) + 1\n",
    "        len_corpus = len(self.corpus)\n",
    "        self.idf = sorted(self.idf.items(), key=lambda a: a[0])\n",
    "        self.idf = {key: (1 + math.log(((1+len_corpus)/(value+1)), 2.7182)) for key, value in self.idf}\n",
    "        self.idf_ = list(self.idf.values())\n",
    "    \n",
    "    def get_feature_names(self):\n",
    "        \"\"\"\n",
    "            Return the list of features in sorted order.\n",
    "        \"\"\"\n",
    "        return list(self.vocab)\n",
    "    \n",
    "    def fit(self, corpus):\n",
    "        \"\"\"\n",
    "            Fit the given corpus and prepare vocabulary and also calculate tf and idf\n",
    "        \"\"\"\n",
    "        if not isinstance(corpus, list):\n",
    "            raise TypeError(\"Expecting corpus to be a list of strings\")\n",
    "        self.corpus = corpus\n",
    "        self.__calculate_idf__()\n",
    "        \n",
    "    def transform(self, corpus):\n",
    "        \"\"\"\n",
    "            Transform a given list of sentence to tfidf vectors. Each vector is stored as sparse matrix.\n",
    "        \"\"\"\n",
    "        if isinstance(corpus, list):\n",
    "            results = []\n",
    "            for document in corpus:\n",
    "                if not isinstance(document, str):\n",
    "                    raise TypeError(\"Expecting corpus to be a list of strings\")\n",
    "                word_count = dict(Counter(document.split(\" \")))\n",
    "                result = []\n",
    "                for word in self.vocab:\n",
    "                    if word in word_count:\n",
    "                        result.append((word_count[word]/len(word_count))*self.idf[word])\n",
    "                    else:\n",
    "                        result.append(0)\n",
    "                temp = []\n",
    "                temp.append(result)\n",
    "                temp = normalize(temp)\n",
    "                results.append(csr_matrix(temp))\n",
    "            return results\n",
    "        else:\n",
    "            raise TypeError(\"Expecting corpus to be a list of strings\")\n",
    "  "
   ]
  },
  {
   "cell_type": "code",
   "execution_count": 276,
   "metadata": {},
   "outputs": [
    {
     "name": "stdout",
     "output_type": "stream",
     "text": [
      "['and', 'document', 'first', 'is', 'one', 'second', 'the', 'third', 'this']\n",
      "[1.9163183162267505, 1.2231502689096025, 1.510841001848111, 1.0, 1.9163183162267505, 1.9163183162267505, 1.0, 1.9163183162267505, 1.0]\n",
      "  (0, 1)\t0.4697917860690878\n",
      "  (0, 2)\t0.5802890378770711\n",
      "  (0, 3)\t0.38408345892601686\n",
      "  (0, 6)\t0.38408345892601686\n",
      "  (0, 8)\t0.38408345892601686\n"
     ]
    }
   ],
   "source": [
    "# TfIdfVectorizer class can be used the same as the tfidfVectorizer from sklearn library.\n",
    "tfidf = TfIdfVectorizer()\n",
    "tfidf.fit(corpus)\n",
    "print(tfidf.get_feature_names())\n",
    "print(tfidf.idf_)\n",
    "output = tfidf.transform(corpus)\n",
    "print(output[0])"
   ]
  },
  {
   "cell_type": "code",
   "execution_count": 277,
   "metadata": {},
   "outputs": [
    {
     "name": "stdout",
     "output_type": "stream",
     "text": [
      "[[0.         0.46979179 0.58028904 0.38408346 0.         0.\n",
      "  0.38408346 0.         0.38408346]]\n"
     ]
    }
   ],
   "source": [
    "print(output[0].toarray())"
   ]
  },
  {
   "cell_type": "markdown",
   "metadata": {
    "colab_type": "text",
    "id": "MMxBmVZExLjK"
   },
   "source": [
    "## Task-2"
   ]
  },
  {
   "cell_type": "markdown",
   "metadata": {
    "colab_type": "text",
    "id": "51j_OtqAxLjL"
   },
   "source": [
    "<font face='georgia'>\n",
    "    <h4><strong>2. Implement max features functionality:</strong></h4>\n",
    "\n",
    "<ul>\n",
    "    <li> As a part of this task you have to modify your fit and transform functions so that your vocab will contain only 50 terms with top idf scores.</li>\n",
    "    <br>\n",
    "    <li>This task is similar to your previous task, just that here your vocabulary is limited to only top 50 features names based on their idf values. Basically your output will have exactly 50 columns and the number of rows will depend on the number of documents you have in your corpus.</li>\n",
    "    <br>\n",
    "    <li>Here you will be give a pickle file, with file name <strong>cleaned_strings</strong>. You would have to load the corpus from this file and use it as input to your tfidf vectorizer.</li>\n",
    "    <br>\n",
    "    <li>Steps to approach this task:\n",
    "    <ol>\n",
    "        <li> You would have to write both fit and transform methods for your custom implementation of tfidf vectorizer, just like in the previous task. Additionally, here you have to limit the number of features generated to 50 as described above.</li>\n",
    "        <li> Now sort your vocab based in descending order of idf values and print out the words in the sorted voacb after you fit your data. Here you should be getting only 50 terms in your vocab. And make sure to print idf values for each term in your vocab. </li>\n",
    "        <li> Make sure the output of your implementation is a sparse matrix. Before generating the final output, you need to normalize your sparse matrix using L2 normalization. You can refer to this link https://scikit-learn.org/stable/modules/generated/sklearn.preprocessing.normalize.html </li>\n",
    "        <li> Now check the output of a single document in your collection of documents,  you can convert the sparse matrix related only to that document into dense matrix and print it. And this dense matrix should contain 1 row and 50 columns. </li>\n",
    "        </ol>\n",
    "    </li>\n",
    "    <br>\n",
    "   </ul>"
   ]
  },
  {
   "cell_type": "code",
   "execution_count": 278,
   "metadata": {
    "colab": {},
    "colab_type": "code",
    "id": "NHxPLlwNxLjL",
    "outputId": "9abd8e08-0e24-4975-9a13-4d3636d60323"
   },
   "outputs": [
    {
     "name": "stdout",
     "output_type": "stream",
     "text": [
      "Number of documents in corpus =  746\n"
     ]
    }
   ],
   "source": [
    "# Below is the code to load the cleaned_strings pickle file provided\n",
    "# Here corpus is of list type\n",
    "\n",
    "import pickle\n",
    "with open('cleaned_strings', 'rb') as f:\n",
    "    corpus = pickle.load(f)\n",
    "    \n",
    "# printing the length of the corpus loaded\n",
    "print(\"Number of documents in corpus = \",len(corpus))"
   ]
  },
  {
   "cell_type": "code",
   "execution_count": 279,
   "metadata": {
    "colab": {},
    "colab_type": "code",
    "id": "ZULfoOIdxLjQ"
   },
   "outputs": [],
   "source": [
    "# Write your code here.\n",
    "# Try not to hardcode any values.\n",
    "# Make sure its well documented and readble with appropriate comments."
   ]
  },
  {
   "cell_type": "code",
   "execution_count": 280,
   "metadata": {},
   "outputs": [],
   "source": [
    "class TfIdfVectorizer:\n",
    "    def __init__(self):\n",
    "        self.vocab = set()\n",
    "        self.documents = []\n",
    "        self.term_freq = []\n",
    "        self.idf = {}\n",
    "        self.corpus = []\n",
    "        self.idf_ = []\n",
    "    \n",
    "    def __calculate_tf__(self):\n",
    "        \"\"\"\n",
    "            For each document add words to the vocabulary set.\n",
    "            Calculate term frequency for each word in document using counter and create a list of dictionary \n",
    "            wherein each dictionary represents a document. \n",
    "        \"\"\"\n",
    "        for document in self.corpus:\n",
    "            if not isinstance(document, str):\n",
    "                raise TypeError(\"Expecting document to be a string.\")\n",
    "            document = document.split(\" \")\n",
    "            self.documents.append(document)\n",
    "            self.vocab.update(document)\n",
    "            self.term_freq.append({k:(v/len(document)) for k,v in dict(Counter(document)).items()})\n",
    "        self.vocab = sorted(self.vocab)\n",
    "\n",
    "    def __calculate_idf__(self):\n",
    "        \"\"\"\n",
    "            Herein we iterate over each word in vocabulary and find the number of documents where the word  is present\n",
    "            and calculate idf for each vocabulary word using the given formula.\n",
    "        \"\"\"\n",
    "        self.__calculate_tf__()\n",
    "        for word in self.vocab:\n",
    "            for document in self.documents:\n",
    "                if word in document:\n",
    "                    self.idf[word] = self.idf.get(word, 0) + 1\n",
    "        len_corpus = len(self.corpus)\n",
    "        self.idf = sorted(self.idf.items(), key=lambda a: a[0])\n",
    "        self.idf = {key: (1 + math.log(((1+len_corpus)/(value+1)), 2.7182)) for key, value in self.idf}\n",
    "        self.idf_ = list(self.idf.values())[:self.top_features]\n",
    "        if self.top_features is not None:\n",
    "            temp = list(sorted(self.idf.items(), key=lambda a: a[1]))[:self.top_features]\n",
    "            self.vocab = [k for k,v in temp]\n",
    "    \n",
    "    def get_feature_names(self):\n",
    "        \"\"\"\n",
    "            Return the list of features in sorted order.\n",
    "        \"\"\"\n",
    "        return self.vocab\n",
    "    \n",
    "    def fit(self, corpus, top_features=None):\n",
    "        \"\"\"\n",
    "            Fit the given corpus and prepare vocabulary and also calculate tf and idf. Selects specified number of \n",
    "            top_features based on order values. \n",
    "        \"\"\"\n",
    "        if not isinstance(corpus, list):\n",
    "            raise TypeError(\"Expecting corpus to be a list of strings\")\n",
    "        if (top_features is not None) and not isinstance(top_features, int):\n",
    "            raise TypeError(\"Expecting top_features to be integer.\")\n",
    "        self.corpus = corpus\n",
    "        self.top_features = top_features\n",
    "        self.__calculate_idf__()\n",
    "        \n",
    "    def transform(self, corpus):\n",
    "        \"\"\"\n",
    "            Transform a given list of sentence to tfidf vectors. Each vector is stored as sparse matrix.\n",
    "        \"\"\"\n",
    "        if isinstance(corpus, list):\n",
    "            results = []\n",
    "            for document in corpus:\n",
    "                word_count = dict(Counter(document.split(\" \")))\n",
    "                result = []\n",
    "                for word in self.vocab:\n",
    "                    if word in word_count:\n",
    "                        result.append((word_count[word]/len(word_count))*self.idf[word])\n",
    "                    else:\n",
    "                        result.append(0)\n",
    "                temp = []\n",
    "                temp.append(result)\n",
    "                temp = normalize(temp)\n",
    "                results.append(csr_matrix(temp))\n",
    "            return results\n",
    "        else:\n",
    "            raise TypeError(\"Expecting corpus to be a list of strings\")"
   ]
  },
  {
   "cell_type": "code",
   "execution_count": 281,
   "metadata": {},
   "outputs": [
    {
     "name": "stdout",
     "output_type": "stream",
     "text": [
      "*************** Features ***************\n",
      "['movie', 'film', 'not', 'one', 'bad', 'good', 'time', 'acting', 'like', 'even', 'see', 'really', 'well', 'characters', 'great', 'would', 'no', 'plot', 'also', 'could', 'ever', 'made', 'movies', 'seen', 'way', 'best', 'character', 'love', 'real', 'story', 'look', 'actors', 'cast', 'films', 'make', 'script', 'think', 'watching', 'wonderful', 'work', 'little', 'much', 'never', 'watch', 'better', 'funny', 'scenes', 'show', 'anyone', 'every']\n",
      "\n",
      "\n",
      "*************** IDF's ***************\n",
      "[6.923096310270997, 6.923096310270997, 6.229928262953849, 6.923096310270997, 5.313609946727098, 6.923096310270997, 6.517618995892357, 6.923096310270997, 6.923096310270997, 6.923096310270997, 6.923096310270997, 6.923096310270997, 6.923096310270997, 6.923096310270997, 6.517618995892357, 6.517618995892357, 6.923096310270997, 6.923096310270997, 6.517618995892357, 6.229928262953849, 3.978568690632519, 5.536760215636701, 6.923096310270997, 5.313609946727098, 4.671736737949667, 6.229928262953849, 6.229928262953849, 5.218296897670129, 6.923096310270997, 6.517618995892357, 6.923096310270997, 6.923096310270997, 6.229928262953849, 6.923096310270997, 6.923096310270997, 6.923096310270997, 6.0067779940442465, 6.923096310270997, 6.923096310270997, 6.517618995892357, 6.229928262953849, 6.923096310270997, 6.923096310270997, 6.923096310270997, 6.517618995892357, 6.517618995892357, 6.923096310270997, 6.0067779940442465, 6.923096310270997, 6.923096310270997]\n"
     ]
    }
   ],
   "source": [
    "tfidf = TfIdfVectorizer()\n",
    "tfidf.fit(corpus, 50)\n",
    "print(\"*************** Features ***************\")\n",
    "print(tfidf.get_feature_names())\n",
    "print(\"\\n\\n*************** IDF's ***************\")\n",
    "print(tfidf.idf_)\n",
    "output = tfidf.transform(corpus)"
   ]
  },
  {
   "cell_type": "code",
   "execution_count": 282,
   "metadata": {},
   "outputs": [
    {
     "name": "stdout",
     "output_type": "stream",
     "text": [
      "******** TfIdf vector for sentence with fifty features: not sure lost flat characters audience nearly half walked ********\n",
      "\n",
      "\n",
      "[[0.         0.         0.57244449 0.         0.         0.\n",
      "  0.         0.         0.         0.         0.         0.\n",
      "  0.         0.81994348 0.         0.         0.         0.\n",
      "  0.         0.         0.         0.         0.         0.\n",
      "  0.         0.         0.         0.         0.         0.\n",
      "  0.         0.         0.         0.         0.         0.\n",
      "  0.         0.         0.         0.         0.         0.\n",
      "  0.         0.         0.         0.         0.         0.\n",
      "  0.         0.        ]]\n"
     ]
    }
   ],
   "source": [
    "print(f\"******** TfIdf vector for sentence with fifty features: {corpus[1]} ********\\n\\n\")\n",
    "print(output[1].toarray())"
   ]
  },
  {
   "cell_type": "code",
   "execution_count": 283,
   "metadata": {},
   "outputs": [
    {
     "data": {
      "text/plain": [
       "'not sure lost flat characters audience nearly half walked'"
      ]
     },
     "execution_count": 283,
     "metadata": {},
     "output_type": "execute_result"
    }
   ],
   "source": [
    "corpus[1]"
   ]
  },
  {
   "cell_type": "code",
   "execution_count": null,
   "metadata": {},
   "outputs": [],
   "source": []
  }
 ],
 "metadata": {
  "colab": {
   "collapsed_sections": [],
   "name": "Assignment_3_Instructions.ipynb",
   "provenance": []
  },
  "kernelspec": {
   "display_name": "Python 3",
   "language": "python",
   "name": "python3"
  },
  "language_info": {
   "codemirror_mode": {
    "name": "ipython",
    "version": 3
   },
   "file_extension": ".py",
   "mimetype": "text/x-python",
   "name": "python",
   "nbconvert_exporter": "python",
   "pygments_lexer": "ipython3",
   "version": "3.7.6"
  }
 },
 "nbformat": 4,
 "nbformat_minor": 1
}
